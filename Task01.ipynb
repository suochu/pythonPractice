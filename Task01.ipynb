{
 "cells": [
  {
   "cell_type": "code",
   "execution_count": 14,
   "id": "a250ed8c",
   "metadata": {},
   "outputs": [],
   "source": [
    "import pandas as pd\n",
    "season1 = pd.read_csv(\"season1.csv\")\n",
    "season2 = pd.read_csv(\"season2.csv\")"
   ]
  },
  {
   "cell_type": "code",
   "execution_count": 13,
   "id": "1a1fea95",
   "metadata": {},
   "outputs": [
    {
     "data": {
      "text/html": [
       "<div>\n",
       "<style scoped>\n",
       "    .dataframe tbody tr th:only-of-type {\n",
       "        vertical-align: middle;\n",
       "    }\n",
       "\n",
       "    .dataframe tbody tr th {\n",
       "        vertical-align: top;\n",
       "    }\n",
       "\n",
       "    .dataframe thead th {\n",
       "        text-align: right;\n",
       "    }\n",
       "</style>\n",
       "<table border=\"1\" class=\"dataframe\">\n",
       "  <thead>\n",
       "    <tr style=\"text-align: right;\">\n",
       "      <th></th>\n",
       "      <th>球隊</th>\n",
       "      <th>名次</th>\n",
       "      <th>勝</th>\n",
       "      <th>負</th>\n",
       "      <th>和</th>\n",
       "    </tr>\n",
       "  </thead>\n",
       "  <tbody>\n",
       "    <tr>\n",
       "      <th>0</th>\n",
       "      <td>樂天桃猿</td>\n",
       "      <td>1</td>\n",
       "      <td>37</td>\n",
       "      <td>1</td>\n",
       "      <td>22</td>\n",
       "    </tr>\n",
       "    <tr>\n",
       "      <th>1</th>\n",
       "      <td>中信兄弟</td>\n",
       "      <td>2</td>\n",
       "      <td>32</td>\n",
       "      <td>2</td>\n",
       "      <td>26</td>\n",
       "    </tr>\n",
       "    <tr>\n",
       "      <th>2</th>\n",
       "      <td>統一獅</td>\n",
       "      <td>3</td>\n",
       "      <td>31</td>\n",
       "      <td>2</td>\n",
       "      <td>27</td>\n",
       "    </tr>\n",
       "    <tr>\n",
       "      <th>3</th>\n",
       "      <td>味全龍</td>\n",
       "      <td>4</td>\n",
       "      <td>31</td>\n",
       "      <td>0</td>\n",
       "      <td>29</td>\n",
       "    </tr>\n",
       "    <tr>\n",
       "      <th>4</th>\n",
       "      <td>富邦悍將</td>\n",
       "      <td>5</td>\n",
       "      <td>16</td>\n",
       "      <td>1</td>\n",
       "      <td>43</td>\n",
       "    </tr>\n",
       "  </tbody>\n",
       "</table>\n",
       "</div>"
      ],
      "text/plain": [
       "     球隊  名次   勝  負   和\n",
       "0  樂天桃猿   1  37  1  22\n",
       "1  中信兄弟   2  32  2  26\n",
       "2   統一獅   3  31  2  27\n",
       "3   味全龍   4  31  0  29\n",
       "4  富邦悍將   5  16  1  43"
      ]
     },
     "execution_count": 13,
     "metadata": {},
     "output_type": "execute_result"
    }
   ],
   "source": [
    "season1"
   ]
  },
  {
   "cell_type": "code",
   "execution_count": 15,
   "id": "018a391c",
   "metadata": {},
   "outputs": [
    {
     "data": {
      "text/html": [
       "<div>\n",
       "<style scoped>\n",
       "    .dataframe tbody tr th:only-of-type {\n",
       "        vertical-align: middle;\n",
       "    }\n",
       "\n",
       "    .dataframe tbody tr th {\n",
       "        vertical-align: top;\n",
       "    }\n",
       "\n",
       "    .dataframe thead th {\n",
       "        text-align: right;\n",
       "    }\n",
       "</style>\n",
       "<table border=\"1\" class=\"dataframe\">\n",
       "  <thead>\n",
       "    <tr style=\"text-align: right;\">\n",
       "      <th></th>\n",
       "      <th>球隊</th>\n",
       "      <th>名次</th>\n",
       "      <th>勝</th>\n",
       "      <th>負</th>\n",
       "      <th>和</th>\n",
       "    </tr>\n",
       "  </thead>\n",
       "  <tbody>\n",
       "    <tr>\n",
       "      <th>0</th>\n",
       "      <td>中信兄弟</td>\n",
       "      <td>1</td>\n",
       "      <td>37</td>\n",
       "      <td>2</td>\n",
       "      <td>21</td>\n",
       "    </tr>\n",
       "    <tr>\n",
       "      <th>1</th>\n",
       "      <td>樂天桃猿</td>\n",
       "      <td>2</td>\n",
       "      <td>33</td>\n",
       "      <td>3</td>\n",
       "      <td>24</td>\n",
       "    </tr>\n",
       "    <tr>\n",
       "      <th>2</th>\n",
       "      <td>台鋼獵鷹</td>\n",
       "      <td>3</td>\n",
       "      <td>30</td>\n",
       "      <td>3</td>\n",
       "      <td>27</td>\n",
       "    </tr>\n",
       "    <tr>\n",
       "      <th>3</th>\n",
       "      <td>味全龍</td>\n",
       "      <td>4</td>\n",
       "      <td>26</td>\n",
       "      <td>5</td>\n",
       "      <td>29</td>\n",
       "    </tr>\n",
       "    <tr>\n",
       "      <th>4</th>\n",
       "      <td>新竹工程師</td>\n",
       "      <td>5</td>\n",
       "      <td>17</td>\n",
       "      <td>1</td>\n",
       "      <td>42</td>\n",
       "    </tr>\n",
       "  </tbody>\n",
       "</table>\n",
       "</div>"
      ],
      "text/plain": [
       "      球隊  名次   勝  負   和\n",
       "0   中信兄弟   1  37  2  21\n",
       "1   樂天桃猿   2  33  3  24\n",
       "2   台鋼獵鷹   3  30  3  27\n",
       "3    味全龍   4  26  5  29\n",
       "4  新竹工程師   5  17  1  42"
      ]
     },
     "execution_count": 15,
     "metadata": {},
     "output_type": "execute_result"
    }
   ],
   "source": [
    "season2"
   ]
  },
  {
   "cell_type": "code",
   "execution_count": 22,
   "id": "ac2287ea",
   "metadata": {},
   "outputs": [
    {
     "name": "stdout",
     "output_type": "stream",
     "text": [
      "{'富邦悍將', '中信兄弟', '味全龍', '統一獅', '樂天桃猿'}\n",
      "{'台鋼獵鷹', '中信兄弟', '味全龍', '新竹工程師', '樂天桃猿'}\n"
     ]
    }
   ],
   "source": [
    "#將cloumn為球隊,抽出來放進list\n",
    "#list無法直接使用,聯集交集差集,要轉換成set\n",
    "list1=set(list(season1['球隊']))\n",
    "list2=set(list(season2['球隊']))\n",
    "print(list1)\n",
    "print(list2)"
   ]
  },
  {
   "cell_type": "code",
   "execution_count": 27,
   "id": "4d7ecca9",
   "metadata": {
    "scrolled": true
   },
   "outputs": [
    {
     "name": "stdout",
     "output_type": "stream",
     "text": [
      "{'中信兄弟', '味全龍', '樂天桃猿'}\n",
      "{'統一獅', '富邦悍將'}\n",
      "{'台鋼獵鷹', '富邦悍將', '中信兄弟', '味全龍', '統一獅', '樂天桃猿', '新竹工程師'}\n",
      "{'台鋼獵鷹', '新竹工程師'}\n",
      "{'統一獅', '台鋼獵鷹', '新竹工程師', '富邦悍將'}\n"
     ]
    }
   ],
   "source": [
    "#交集 第一季和第二季都出賽\n",
    "print(list1&list2)\n",
    "#差集 只出賽第一季\n",
    "print(list1-list2)\n",
    "\n",
    "#xu0兩季至少有一季出賽\n",
    "print(list1|list2)\n",
    "#只出賽第二季\n",
    "print(list2-list1)\n",
    "\n",
    "#只出賽一季\n",
    "print((list1|list2)-(list1&list2))\n"
   ]
  },
  {
   "cell_type": "code",
   "execution_count": 21,
   "id": "25f6e58c",
   "metadata": {},
   "outputs": [
    {
     "name": "stdout",
     "output_type": "stream",
     "text": [
      "['樂天桃猿', '中信兄弟', '統一獅', '味全龍', '富邦悍將']\n"
     ]
    }
   ],
   "source": []
  },
  {
   "cell_type": "code",
   "execution_count": null,
   "id": "0cec8581",
   "metadata": {},
   "outputs": [],
   "source": []
  }
 ],
 "metadata": {
  "kernelspec": {
   "display_name": "Python 3 (ipykernel)",
   "language": "python",
   "name": "python3"
  },
  "language_info": {
   "codemirror_mode": {
    "name": "ipython",
    "version": 3
   },
   "file_extension": ".py",
   "mimetype": "text/x-python",
   "name": "python",
   "nbconvert_exporter": "python",
   "pygments_lexer": "ipython3",
   "version": "3.10.9"
  }
 },
 "nbformat": 4,
 "nbformat_minor": 5
}
